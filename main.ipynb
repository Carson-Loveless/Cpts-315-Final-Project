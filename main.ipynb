{
 "cells": [
  {
   "cell_type": "code",
   "execution_count": 1,
   "metadata": {},
   "outputs": [
    {
     "name": "stderr",
     "output_type": "stream",
     "text": [
      "[nltk_data] Downloading package punkt to\n",
      "[nltk_data]     /Users/csilberlicht/nltk_data...\n",
      "[nltk_data]   Package punkt is already up-to-date!\n",
      "[nltk_data] Downloading package stopwords to\n",
      "[nltk_data]     /Users/csilberlicht/nltk_data...\n",
      "[nltk_data]   Package stopwords is already up-to-date!\n"
     ]
    }
   ],
   "source": [
    "import nltk as nl\n",
    "from nltk.classify import NaiveBayesClassifier\n",
    "from nltk.corpus import subjectivity, treebank, stopwords\n",
    "from nltk.sentiment import SentimentAnalyzer\n",
    "from nltk.sentiment.util import *\n",
    "import numpy as np\n",
    "np.set_printoptions(threshold=sys.maxsize)\n",
    "import pandas as pd\n",
    "from sklearn.naive_bayes import MultinomialNB\n",
    "\n",
    "nl.download('punkt')\n",
    "nl.download('stopwords')\n",
    "\n",
    "stopwords = stopwords.words('english') #pythonspot tutorial\n",
    "stop = set()\n",
    "\n",
    "flag =1\n",
    "inFile = open(\"./stoplist.txt\",\"r\")\n",
    "while flag == 1:\n",
    "    line = inFile.readline()\n",
    "    if line == \"\":\n",
    "        flag = 0\n",
    "    stop.add(line[:-1])\n",
    "inFile.close()\n",
    "\n",
    "df = pd.read_csv('big_train.csv', delimiter=',') \n",
    "\n",
    "vocablist = {} \n",
    "vocab_occurences = {}\n",
    "all_comments = []\n",
    "for i in range(len(df)):\n",
    "    comment=df.iloc[i, 1]\n",
    "    tags = [df.iloc[i, 2], df.iloc[i, 3], df.iloc[i, 4], df.iloc[i, 5], df.iloc[i, 6], df.iloc[i, 7]]\n",
    "    tokens = nl.regexp_tokenize(comment, r'[,\\.\\?\\n\\t0123456789 /\\'><;:[\\]{}+-=_()!@#$%^&*~`\"]\\s*', gaps=True)\n",
    "    tokens = [token.lower() for token in tokens] #from stack exchange\n",
    "\n",
    "    less_token = set()    \n",
    "    \n",
    "    for token in tokens:\n",
    "        if token not in stop:\n",
    "            less_token.add(token)\n",
    "            if token not in vocablist.keys():\n",
    "                vocablist[token] = 1\n",
    "                vocab_occurences[token] = [i]\n",
    "            else:\n",
    "                vocablist[token]+=1\n",
    "                vocab_occurences[token].append(i)\n",
    "    all_comments.append((less_token, tags))\n",
    "\n",
    "\n",
    "\n",
    "bag_of_words =np.zeros([len(all_comments),len(vocablist)] )\n",
    "for i, word in enumerate(vocab_occurences.values()):\n",
    "    for j in word:\n",
    "        bag_of_words[j][i] += 1\n",
    "\n",
    "bag_of_words"
   ]
  },
  {
   "cell_type": "markdown",
   "metadata": {},
   "source": []
  },
  {
   "cell_type": "code",
   "execution_count": null,
   "metadata": {},
   "outputs": [],
   "source": []
  }
 ],
 "metadata": {
  "interpreter": {
   "hash": "4d426612f250d533e84255222bfb25825e73801a40cc381a7e0ce16c0e7ec383"
  },
  "kernelspec": {
   "display_name": "Python 3.10.6 64-bit ('3.10.6')",
   "language": "python",
   "name": "python3"
  },
  "language_info": {
   "codemirror_mode": {
    "name": "ipython",
    "version": 3
   },
   "file_extension": ".py",
   "mimetype": "text/x-python",
   "name": "python",
   "nbconvert_exporter": "python",
   "pygments_lexer": "ipython3",
   "version": "3.10.6"
  },
  "orig_nbformat": 4
 },
 "nbformat": 4,
 "nbformat_minor": 2
}
