{
 "cells": [
  {
   "cell_type": "code",
   "execution_count": 1,
   "metadata": {},
   "outputs": [
    {
     "name": "stderr",
     "output_type": "stream",
     "text": [
      "[nltk_data] Downloading package punkt to\n",
      "[nltk_data]     /Users/csilberlicht/nltk_data...\n",
      "[nltk_data]   Package punkt is already up-to-date!\n",
      "[nltk_data] Downloading package stopwords to\n",
      "[nltk_data]     /Users/csilberlicht/nltk_data...\n",
      "[nltk_data]   Package stopwords is already up-to-date!\n"
     ]
    },
    {
     "name": "stdout",
     "output_type": "stream",
     "text": [
      "       aa  aaa  aaaannnnyyyywwwwhhhheeeerrrreeee  aac  aadministrators   \n",
      "0       0    0                                 0    0                0  \\\n",
      "1       0    0                                 0    0                0   \n",
      "2       0    0                                 0    0                0   \n",
      "3       0    0                                 0    0                0   \n",
      "4       0    0                                 0    0                0   \n",
      "...    ..  ...                               ...  ...              ...   \n",
      "14024   0    0                                 0    0                0   \n",
      "14025   0    0                                 0    0                0   \n",
      "14026   0    0                                 0    0                0   \n",
      "14027   0    0                                 0    0                0   \n",
      "14028   0    0                                 0    0                0   \n",
      "\n",
      "       aagadu  aah  aalertbot  aang  aaot  ...  雲水  電視劇  顧家輝  飞天  飞天号航天服   \n",
      "0           0    0          0     0     0  ...   0    0    0   0       0  \\\n",
      "1           0    0          0     0     0  ...   0    0    0   0       0   \n",
      "2           0    0          0     0     0  ...   0    0    0   0       0   \n",
      "3           0    0          0     0     0  ...   0    0    0   0       0   \n",
      "4           0    0          0     0     0  ...   0    0    0   0       0   \n",
      "...       ...  ...        ...   ...   ...  ...  ..  ...  ...  ..     ...   \n",
      "14024       0    0          0     0     0  ...   0    0    0   0       0   \n",
      "14025       0    0          0     0     0  ...   0    0    0   0       0   \n",
      "14026       0    0          0     0     0  ...   0    0    0   0       0   \n",
      "14027       0    0          0     0     0  ...   0    0    0   0       0   \n",
      "14028       0    0          0     0     0  ...   0    0    0   0       0   \n",
      "\n",
      "       鳴かぬなら鳴かしてみせようほととぎす  번역  ａｎｏｎｔａｌｋ  ｃｏｍ  ｗｗｗ  \n",
      "0                       0   0         0    0    0  \n",
      "1                       0   0         0    0    0  \n",
      "2                       0   0         0    0    0  \n",
      "3                       0   0         0    0    0  \n",
      "4                       0   0         0    0    0  \n",
      "...                   ...  ..       ...  ...  ...  \n",
      "14024                   0   0         0    0    0  \n",
      "14025                   0   0         0    0    0  \n",
      "14026                   0   0         0    0    0  \n",
      "14027                   0   0         0    0    0  \n",
      "14028                   0   0         0    0    0  \n",
      "\n",
      "[14029 rows x 42164 columns]\n"
     ]
    }
   ],
   "source": [
    "import nltk as nl\n",
    "from nltk.classify import NaiveBayesClassifier\n",
    "from nltk.corpus import subjectivity, treebank, stopwords\n",
    "from nltk.sentiment import SentimentAnalyzer\n",
    "from nltk.sentiment.util import *\n",
    "import numpy as np\n",
    "import pandas as pd\n",
    "from sklearn.naive_bayes import MultinomialNB\n",
    "from sklearn.feature_extraction.text import CountVectorizer\n",
    "from nltk.tokenize.treebank import TreebankWordDetokenizer\n",
    "\n",
    "np.set_printoptions(threshold=sys.maxsize)\n",
    "\n",
    "nl.download('punkt')\n",
    "nl.download('stopwords')\n",
    "\n",
    "stopwords = stopwords.words('english') #pythonspot tutorial\n",
    "stop = set()\n",
    "\n",
    "flag =1\n",
    "inFile = open(\"./stoplist.txt\",\"r\")\n",
    "while flag == 1:\n",
    "    line = inFile.readline()\n",
    "    if line == \"\":\n",
    "        flag = 0\n",
    "    stop.add(line[:-1])\n",
    "inFile.close()\n",
    "\n",
    "df = pd.read_csv('big_train.csv', delimiter=',') \n",
    "\n",
    "comments =[]\n",
    "for i in range(len(df)):\n",
    "    tokens = nl.regexp_tokenize(df.iloc[i, 1], r'[,\\.\\?\\n\\t0123456789 /\\'><;:[\\]{}+-=_()!@#$%^&*~`\"]\\s*', gaps=True)\n",
    "    tokens = [token.lower() for token in tokens]\n",
    "    reduced = set()\n",
    "    for word in tokens:\n",
    "        if word not in stop:\n",
    "            reduced.add(word)\n",
    "    un_token = TreebankWordDetokenizer()\n",
    "    comments.append(un_token.detokenize(tokens))\n",
    "    \n",
    "count_vector = CountVectorizer()\n",
    "dataframe = count_vector.fit_transform(comments)\n",
    "bag_o_words = pd.DataFrame(dataframe.toarray(), columns = count_vector.get_feature_names_out())\n",
    "\n",
    "print(bag_o_words)\n",
    "\n",
    "\n"
   ]
  },
  {
   "cell_type": "code",
   "execution_count": null,
   "metadata": {},
   "outputs": [],
   "source": [
    "    # reduced = set()\n",
    "    # for word in tokens:\n",
    "    #     if word not in stop:\n",
    "    #         reduced.add(word)\n",
    "    bag = bag_o_words.to_numpy()\n",
    "    # bag_matrix = np.empty(0)\n",
    "# for i, row in bag_o_words.iterrows():\n",
    "#     val = df.loc[i, :].values.flatten().tolist()\n",
    "#     bag_matrix=np.append(bag_matrix,val, axis=0)\n",
    "\n",
    "# bag_matrix"
   ]
  }
 ],
 "metadata": {
  "interpreter": {
   "hash": "4d426612f250d533e84255222bfb25825e73801a40cc381a7e0ce16c0e7ec383"
  },
  "kernelspec": {
   "display_name": "Python 3.10.6 64-bit ('3.10.6')",
   "language": "python",
   "name": "python3"
  },
  "language_info": {
   "codemirror_mode": {
    "name": "ipython",
    "version": 3
   },
   "file_extension": ".py",
   "mimetype": "text/x-python",
   "name": "python",
   "nbconvert_exporter": "python",
   "pygments_lexer": "ipython3",
   "version": "3.10.6"
  },
  "orig_nbformat": 4
 },
 "nbformat": 4,
 "nbformat_minor": 2
}
